{
 "cells": [
  {
   "cell_type": "code",
   "execution_count": null,
   "metadata": {},
   "outputs": [],
   "source": [
    "import fitz  # PyMuPDF\n",
    "from glob import glob\n",
    "import re\n",
    "\n",
    "# Recursive function to split text into manageable chunks\n",
    "def recursive_chunk_text(text, chunk_size=1000):\n",
    "    chunks = []\n",
    "    \n",
    "    # Base case: if the text is smaller than chunk_size, return it as is\n",
    "    if len(text) <= chunk_size:\n",
    "        chunks.append(text)\n",
    "        return chunks\n",
    "    \n",
    "    # Try splitting the text at the closest space to avoid cutting words\n",
    "    split_point = text.rfind(' ', 0, chunk_size)\n",
    "    \n",
    "    # If no space is found, just split at the chunk_size\n",
    "    if split_point == -1:\n",
    "        split_point = chunk_size\n",
    "    \n",
    "    # Split the text and recursively process the remaining part\n",
    "    chunks.append(text[:split_point].strip())\n",
    "    chunks.extend(recursive_chunk_text(text[split_point:].strip(), chunk_size))\n",
    "    \n",
    "    return chunks\n",
    "\n",
    "# Extract text from PDF files\n",
    "text_lines = []\n",
    "\n",
    "for file_path in glob(\"documents_RAG/*.pdf\", recursive=True):\n",
    "    doc = fitz.open(file_path)  # Open the PDF file\n",
    "    pdf_text = \"\"\n",
    "    for page in doc:\n",
    "        pdf_text += page.get_text(\"text\")  # Extract text from each page\n",
    "    \n",
    "    # Apply recursive chunking to split the extracted text into smaller sections\n",
    "    text_lines.extend(recursive_chunk_text(pdf_text))\n",
    "\n",
    "# Function to improve readability of tables (basic implementation)\n",
    "def improve_table_readability(text):\n",
    "    # Example: Adding spaces around numeric values, aligning table columns\n",
    "    # Find sequences that resemble tables and try to format them\n",
    "    # Basic regex to match numbers followed by spaces or new lines\n",
    "    text = re.sub(r'(\\d+)\\s*(?=\\d)', r'\\1 ', text)  # Ensure there's a space after numbers if missing\n",
    "    return text\n",
    "\n",
    "# Improve table readability for all extracted chunks\n",
    "text_lines = [improve_table_readability(chunk) for chunk in text_lines]\n",
    "\n",
    "# Optionally, print out some of the chunks to see the result\n",
    "for i in range(min(5, len(text_lines))):  # Display up to 5 chunks\n",
    "    print(f\"Chunk {i+1}:\\n{text_lines[i]}\\n\")\n"
   ]
  },
  {
   "cell_type": "code",
   "execution_count": 13,
   "metadata": {},
   "outputs": [],
   "source": [
    "import ollama\n",
    "\n",
    "\n",
    "def emb_text(text):\n",
    "    response = ollama.embeddings(model=\"nomic-embed-text\", prompt=text)\n",
    "    return response[\"embedding\"]\n"
   ]
  },
  {
   "cell_type": "code",
   "execution_count": 14,
   "metadata": {},
   "outputs": [
    {
     "name": "stdout",
     "output_type": "stream",
     "text": [
      "768\n",
      "[1.0914263725280762, 0.5967336893081665, -3.9346163272857666, -0.6990123391151428, 1.5423402786254883, -0.13473758101463318, 0.8982678651809692, -0.46930229663848877, 0.9009982347488403, -0.6395869851112366]\n"
     ]
    }
   ],
   "source": [
    "test_embedding = emb_text(\"This is a test\")\n",
    "embedding_dim = len(test_embedding)\n",
    "print(embedding_dim)\n",
    "print(test_embedding[:10])\n"
   ]
  },
  {
   "cell_type": "code",
   "execution_count": 15,
   "metadata": {},
   "outputs": [],
   "source": [
    "from pymilvus import MilvusClient\n",
    "\n",
    "milvus_client = MilvusClient(uri=\"http://localhost:19530\")\n",
    "\n",
    "collection_name = \"my_rag_collection\"\n"
   ]
  },
  {
   "cell_type": "code",
   "execution_count": 16,
   "metadata": {},
   "outputs": [],
   "source": [
    "if milvus_client.has_collection(collection_name):\n",
    "    milvus_client.drop_collection(collection_name)\n"
   ]
  },
  {
   "cell_type": "code",
   "execution_count": 17,
   "metadata": {},
   "outputs": [],
   "source": [
    "milvus_client.create_collection(\n",
    "    collection_name=collection_name,\n",
    "    dimension=embedding_dim,\n",
    "    metric_type=\"IP\",  # Inner product distance\n",
    "    consistency_level=\"Strong\",  # Strong consistency level\n",
    ")\n"
   ]
  },
  {
   "cell_type": "code",
   "execution_count": 18,
   "metadata": {},
   "outputs": [
    {
     "name": "stderr",
     "output_type": "stream",
     "text": [
      "Creating embeddings: 100%|██████████| 72/72 [00:04<00:00, 14.99it/s]\n"
     ]
    },
    {
     "data": {
      "text/plain": [
       "{'insert_count': 72, 'ids': [0, 1, 2, 3, 4, 5, 6, 7, 8, 9, 10, 11, 12, 13, 14, 15, 16, 17, 18, 19, 20, 21, 22, 23, 24, 25, 26, 27, 28, 29, 30, 31, 32, 33, 34, 35, 36, 37, 38, 39, 40, 41, 42, 43, 44, 45, 46, 47, 48, 49, 50, 51, 52, 53, 54, 55, 56, 57, 58, 59, 60, 61, 62, 63, 64, 65, 66, 67, 68, 69, 70, 71], 'cost': 0}"
      ]
     },
     "execution_count": 18,
     "metadata": {},
     "output_type": "execute_result"
    }
   ],
   "source": [
    "from tqdm import tqdm\n",
    "\n",
    "data = []\n",
    "\n",
    "for i, line in enumerate(tqdm(text_lines, desc=\"Creating embeddings\")):\n",
    "    data.append({\"id\": i, \"vector\": emb_text(line), \"text\": line})\n",
    "\n",
    "milvus_client.insert(collection_name=collection_name, data=data)\n"
   ]
  }
 ],
 "metadata": {
  "kernelspec": {
   "display_name": ".venv",
   "language": "python",
   "name": "python3"
  },
  "language_info": {
   "codemirror_mode": {
    "name": "ipython",
    "version": 3
   },
   "file_extension": ".py",
   "mimetype": "text/x-python",
   "name": "python",
   "nbconvert_exporter": "python",
   "pygments_lexer": "ipython3",
   "version": "3.13.2"
  }
 },
 "nbformat": 4,
 "nbformat_minor": 2
}
