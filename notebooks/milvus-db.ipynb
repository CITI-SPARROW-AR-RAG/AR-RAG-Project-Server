{
 "cells": [
  {
   "cell_type": "code",
   "execution_count": 11,
   "metadata": {},
   "outputs": [
    {
     "data": {
      "text/plain": [
       "True"
      ]
     },
     "execution_count": 11,
     "metadata": {},
     "output_type": "execute_result"
    }
   ],
   "source": [
    "from dotenv import load_dotenv\n",
    "import os\n",
    "from pathlib import Path\n",
    "\n",
    "current_dir = os.getcwd()\n",
    "path = Path(current_dir)\n",
    "BASE_DIR = path.parent  # Go one level up\n",
    "\n",
    "load_dotenv(BASE_DIR / \".env\")"
   ]
  },
  {
   "cell_type": "markdown",
   "metadata": {},
   "source": [
    "# Load and Embed Manual File"
   ]
  },
  {
   "cell_type": "code",
   "execution_count": 8,
   "metadata": {},
   "outputs": [],
   "source": [
    "import fitz  # PyMuPDF\n",
    "from glob import glob\n",
    "\n",
    "# Text chunking function to split text into manageable chunks\n",
    "def chunk_text(text, chunk_size=1000):\n",
    "    chunks = []\n",
    "    while len(text) > chunk_size:\n",
    "        # Split the text at the closest space to the chunk size to avoid cutting words\n",
    "        split_point = text.rfind(' ', 0, chunk_size)\n",
    "        chunks.append(text[:split_point])\n",
    "        text = text[split_point:].strip()\n",
    "    if text:\n",
    "        chunks.append(text)\n",
    "    return chunks\n"
   ]
  },
  {
   "cell_type": "code",
   "execution_count": 9,
   "metadata": {},
   "outputs": [],
   "source": [
    "import ollama\n",
    "import os\n",
    "\n",
    "def emb_text(text):\n",
    "    response = ollama.embeddings(model=os.getenv(\"EMBEDDING_MODEL\"), prompt=text)\n",
    "    return response[\"embedding\"]"
   ]
  },
  {
   "cell_type": "code",
   "execution_count": 10,
   "metadata": {},
   "outputs": [
    {
     "name": "stdout",
     "output_type": "stream",
     "text": [
      "9\n"
     ]
    }
   ],
   "source": [
    "# **1️⃣ Ekstrak dan embedding teks dari PDF**\n",
    "text_chunks = []\n",
    "embedding_vectors = []\n",
    "\n",
    "for file_path in glob(\"documents_RAG/*.pdf\", recursive=True):\n",
    "    doc = fitz.open(file_path)\n",
    "    pdf_text = \"\"\n",
    "    i = 0\n",
    "    for page in doc:\n",
    "        pdf_text += page.get_text()\n",
    "        i += 1\n",
    "\n",
    "        if i == 5:\n",
    "            break\n",
    "    \n",
    "    # Buat *chunks* dari teks PDF\n",
    "    chunks = chunk_text(pdf_text)\n",
    "    text_chunks.extend(chunks)  # Simpan teks chunked\n",
    "    \n",
    "    # Konversi *chunks* ke embedding\n",
    "    for chunk in chunks:\n",
    "        embedding_vectors.append(emb_text(chunk))\n",
    "\n",
    "print(len(embedding_vectors))"
   ]
  },
  {
   "cell_type": "markdown",
   "metadata": {},
   "source": [
    "# Connect to Milvus"
   ]
  },
  {
   "cell_type": "code",
   "execution_count": 4,
   "metadata": {},
   "outputs": [
    {
     "name": "stdout",
     "output_type": "stream",
     "text": [
      "Terhubung ke Milvus!\n"
     ]
    }
   ],
   "source": [
    "from pymilvus import connections\n",
    "\n",
    "# Hubungkan ke Milvus\n",
    "connections.connect(alias=\"default\", host=\"localhost\", port=\"19530\")\n",
    "print(\"Terhubung ke Milvus!\")"
   ]
  },
  {
   "cell_type": "code",
   "execution_count": 16,
   "metadata": {},
   "outputs": [
    {
     "name": "stdout",
     "output_type": "stream",
     "text": [
      "Existing collection dropped!\n",
      "Koleksi berhasil dibuat!\n",
      "Index berhasil dibuat!\n",
      "Data berhasil dimasukkan dengan total 9 chunk.\n"
     ]
    }
   ],
   "source": [
    "from pymilvus import Collection, FieldSchema, CollectionSchema, DataType, Index, utility\n",
    "import numpy as np\n",
    "import fitz  # PyMuPDF\n",
    "from glob import glob\n",
    "from dotenv import load_dotenv\n",
    "import ollama\n",
    "import os\n",
    "\n",
    "# Drop existing collection if it exists\n",
    "if utility.has_collection(os.getenv(\"COLLECTION_NAME\")):\n",
    "    utility.drop_collection(os.getenv(\"COLLECTION_NAME\"))\n",
    "    print(\"Existing collection dropped!\")\n",
    "\n",
    "# Update the schema with correct vector dimensions\n",
    "fields = [\n",
    "    FieldSchema(name=\"id\", dtype=DataType.INT64, is_primary=True, auto_id=True),\n",
    "    FieldSchema(name=\"text\", dtype=DataType.VARCHAR, max_length=2048),\n",
    "    FieldSchema(name=\"vector\", dtype=DataType.FLOAT_VECTOR, dim=1024)  # Changed to match your embeddings\n",
    "]\n",
    "\n",
    "schema = CollectionSchema(fields, description=\"Koleksi embedding dokumen\")\n",
    "\n",
    "# Create new collection\n",
    "collection = Collection(name=os.getenv(\"COLLECTION_NAME\"), schema=schema)\n",
    "print(\"Koleksi berhasil dibuat!\")\n",
    "\n",
    "# Create index on vector field\n",
    "index_params = {\n",
    "    \"metric_type\": \"IP\",\n",
    "    \"index_type\": \"IVF_FLAT\",\n",
    "    \"params\": {\"nlist\": 128}\n",
    "}\n",
    "collection.create_index(field_name=\"vector\", index_params=index_params)\n",
    "print(\"Index berhasil dibuat!\")\n",
    "\n",
    "# Insert data\n",
    "entities = [\n",
    "    {\n",
    "        \"text\": text,\n",
    "        \"vector\": vector\n",
    "    }\n",
    "    for text, vector in zip(text_chunks, embedding_vectors)\n",
    "]\n",
    "\n",
    "insert_result = collection.insert(entities)\n",
    "collection.flush()\n",
    "collection.load()\n",
    "print(f\"Data berhasil dimasukkan dengan total {len(text_chunks)} chunk.\")"
   ]
  },
  {
   "cell_type": "code",
   "execution_count": 17,
   "metadata": {},
   "outputs": [
    {
     "name": "stdout",
     "output_type": "stream",
     "text": [
      "Score: 179.9971466064453, Text: Introduction\n",
      "This manual is a guide for using the MITSUBISHI CNC C80 Series.\n",
      "This manual describes operations, production processes and maintenances for users who operate the MITSUBISHI CNC\n",
      "installed machine tool. Read this manual thoroughly before using CNC unit. Moreover study the \"Precautions for Safety\" on\n",
      "the next page before use to use the unit safely. Be sure to keep this manual always at hand.\n",
      "CAUTION\n",
      "For items described as \"Restrictions\" or \"Usable State\" in this manual, the instruction manual issued by the\n",
      "machine tool builder (MTB) takes precedence over this manual.\n",
      "Items not described in this manual must be interpreted as \"not possible\".\n",
      "This manual is written on the assumption that all the applicable functions are included. Some of them, however,\n",
      "may not be available for your NC system. Refer to the specifications issued by the machine tool builder before\n",
      "use.\n",
      "Refer to the Instruction Manual issued by each MTB for details on each machine tool.\n",
      "Some screens and functions\n",
      "Score: 179.12855529785156, Text: No.\n",
      "Purpose and Contents\n",
      "M800/M80/E80/C80 Series\n",
      "Specifications Manual (Function)\n",
      "IB-1501505\n",
      "Model selection\n",
      "Outline of various functions\n",
      "M800/M80/E80/C80 Series\n",
      "Specifications Manual (Hardware)\n",
      "IB-1501506\n",
      "Model selection\n",
      "Specifications of hardware unit\n",
      "M800W/M80W Series\n",
      "Connection and Setup Manual\n",
      "IB-1501268\n",
      "Detailed specifications of hardware unit\n",
      "Installation, connection, wiring, setup (startup/adjustment)\n",
      "M800S/M80/E80 Series\n",
      "Connection and Setup Manual\n",
      "IB-1501269\n",
      "Detailed specifications of hardware unit\n",
      "Installation, connection, wiring, setup (startup/adjustment)\n",
      "C80 Series\n",
      "Connection and Setup Manual\n",
      "IB-1501452\n",
      "Detailed specifications of hardware unit\n",
      "Installation, connection, wiring, setup (startup/adjustment)\n",
      "M800/M80/E80 Series\n",
      "PLC Development Manual\n",
      "IB-1501270\n",
      "Electrical design\n",
      "I/O relation (assignment, setting, connection), field network\n",
      "Development environment (PLC on-board, peripheral \n",
      "development environment), etc.\n",
      "M800/M80/E80 Series\n",
      "PLC Programming\n",
      "Score: 175.87583923339844, Text: Manual\n",
      "IB-1501241\n",
      "Instruction for multi-hybrid, power supply regeneration type\n",
      "DATA BOOK\n",
      "IB-1501252\n",
      "Specifications of servo drive unit, spindle drive unit, motor, etc.\n",
      "Manuals for MTBs (Others)\n",
      "■ For M800/M80/E80 Series\n",
      "■ For C80 Series\n",
      "Manual\n",
      "No.\n",
      "Purpose and Contents\n",
      "GOT2000 Series User’s Manual \n",
      "(Hardware)\n",
      "SH-081194\n",
      "Outline of hardware such as part names, external dimensions, \n",
      "installation, wiring, maintenance, etc. of GOTs\n",
      "GOT2000 Series User’s Manual \n",
      "(Utility)\n",
      "SH-081195\n",
      "Outline of utilities such as screen display setting, operation \n",
      "method, etc. of GOTs\n",
      "GOT2000 Series User’s Manual \n",
      "(Monitor)\n",
      "SH-081196\n",
      "Outline of each monitor function of GOTs\n",
      "GOT2000 Series Connection \n",
      "Manual (Mitsubishi Electric \n",
      "Products)\n",
      "SH-081197\n",
      "Outline of connection types and connection method between \n",
      "GOT and Mitsubishi Electric connection devices\n",
      "GT Designer3 (GOT2000) Screen \n",
      "Design Manual\n",
      "SH-081220\n",
      "Outline of screen design method using screen creation \n",
      "software GT Designer3\n",
      "Manual\n",
      "No.\n",
      "Purpose and\n",
      "Score: 174.29696655273438, Text: Manual\n",
      "IB-1501274\n",
      "Operation guide for NC\n",
      "Explanation for screen operation, etc.\n",
      "C80 Series\n",
      "Instruction Manual\n",
      "IB-1501453\n",
      "Operation guide for NC\n",
      "Explanation for screen operation, etc.\n",
      "M800/M80/E80/C80 Series\n",
      "Programming Manual\n",
      "(Lathe System) (1/2)\n",
      "IB-1501275\n",
      "G code programming for lathe system\n",
      "Basic functions, etc.\n",
      "M800/M80/E80/C80 Series\n",
      "Programming Manual\n",
      "(Lathe System) (2/2)\n",
      "IB-1501276\n",
      "G code programming for lathe system\n",
      "Functions for multi-part system, high-accuracy function, etc.\n",
      "M800/M80/E80/C80 Series\n",
      "Programming Manual\n",
      "(Machining Center System) (1/2)\n",
      "IB-1501277\n",
      "G code programming for machining center system\n",
      "Basic functions, etc.\n",
      "M800/M80/E80/C80 Series\n",
      "Programming Manual\n",
      "(Machining Center System) (2/2)\n",
      "IB-1501278\n",
      "G code programming for machining center system\n",
      "Functions for multi-part system, high-accuracy function, etc.\n",
      "M800/M80/E80/C80 Series\n",
      "Alarm/Parameter Manual\n",
      "IB-1501279\n",
      "Alarms\n",
      "Parameters\n",
      "Manuals for MTBs (NC)\n",
      "Manuals for MTBs (drive section)\n",
      "Manual\n",
      "IB\n",
      "Score: 173.18478393554688, Text: necessary knowledge to configure \n",
      "the system and maintenance-related descriptions for Q series \n",
      "CPU module, etc.\n",
      "GX Works3 Operating Manual\n",
      "SH-081215\n",
      "Outline of functions, programming, etc.\n"
     ]
    }
   ],
   "source": [
    "search_params = {\"metric_type\": \"IP\", \"params\": {\"nprobe\": 10}}\n",
    "\n",
    "query_text = \"This manual is a guide\"\n",
    "query_vector = ollama.embeddings(model=os.getenv(\"EMBEDDING_MODEL\"), prompt=query_text)[\"embedding\"]\n",
    "\n",
    "results = collection.search(\n",
    "    data=[query_vector],  # Query vector(s)\n",
    "    anns_field=\"vector\",  # The field to search\n",
    "    param=search_params,\n",
    "    limit=5,  # Get top 5 results\n",
    "    output_fields=[\"text\"]  # Retrieve associated text\n",
    ")\n",
    "\n",
    "# Print the results\n",
    "for hits in results:\n",
    "    for hit in hits:\n",
    "        print(f\"Score: {hit.distance}, Text: {hit.entity.get('text')}\")"
   ]
  },
  {
   "cell_type": "code",
   "execution_count": null,
   "metadata": {},
   "outputs": [],
   "source": []
  }
 ],
 "metadata": {
  "kernelspec": {
   "display_name": "base",
   "language": "python",
   "name": "python3"
  },
  "language_info": {
   "codemirror_mode": {
    "name": "ipython",
    "version": 3
   },
   "file_extension": ".py",
   "mimetype": "text/x-python",
   "name": "python",
   "nbconvert_exporter": "python",
   "pygments_lexer": "ipython3",
   "version": "3.9.21"
  }
 },
 "nbformat": 4,
 "nbformat_minor": 2
}
