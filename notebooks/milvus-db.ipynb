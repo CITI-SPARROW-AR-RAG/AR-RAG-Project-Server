{
 "cells": [
  {
   "cell_type": "code",
   "execution_count": 11,
   "metadata": {},
   "outputs": [
    {
     "data": {
      "text/plain": [
       "True"
      ]
     },
     "execution_count": 11,
     "metadata": {},
     "output_type": "execute_result"
    }
   ],
   "source": [
    "from dotenv import load_dotenv\n",
    "import os\n",
    "from pathlib import Path\n",
    "\n",
    "current_dir = os.getcwd()\n",
    "path = Path(current_dir)\n",
    "BASE_DIR = path.parent  # Go one level up\n",
    "\n",
    "load_dotenv(BASE_DIR / \".env\")"
   ]
  },
  {
   "cell_type": "code",
   "execution_count": 14,
   "metadata": {},
   "outputs": [],
   "source": [
    "MILVUS_URL = os.getenv(\"MILVUS_URL\")\n",
    "MILVUS_METRIC_TYPE = os.getenv(\"MILVUS_METRIC_TYPE\")\n",
    "COLLECTION_NAME = os.getenv(\"COLLECTION_NAME\")\n",
    "\n",
    "EMBEDDING_MODEL = os.getenv(\"EMBEDDING_MODEL\")\n",
    "MISTRAL_API_KEY = os.getenv(\"MISTRAL_API_KEY\")\n",
    "LLM_MODEL = os.getenv(\"LLM_MODEL\")"
   ]
  },
  {
   "cell_type": "code",
   "execution_count": null,
   "metadata": {},
   "outputs": [],
   "source": [
    "from glob import glob\n",
    "from mistralai import Mistral\n",
    "import time\n",
    "\n",
    "\n",
    "# Initialize Mistral client\n",
    "client = Mistral(api_key=MISTRAL_API_KEY)\n",
    "\n",
    "\n",
    "\n",
    "# Process a single PDF file using Mistral OCR\n",
    "def process_pdf_with_ocr(file_path):\n",
    "    try:\n",
    "        # Upload the PDF file to Mistral\n",
    "        print(f\"Uploading {file_path}...\")\n",
    "        with open(file_path, \"rb\") as f:\n",
    "            uploaded_pdf = client.files.upload(\n",
    "                file={\n",
    "                    \"file_name\": os.path.basename(file_path),\n",
    "                    \"content\": f,\n",
    "                },\n",
    "                purpose=\"ocr\"\n",
    "            )\n",
    "        \n",
    "        # Get the signed URL for the uploaded file\n",
    "        signed_url = client.files.get_signed_url(file_id=uploaded_pdf.id)\n",
    "        \n",
    "        # Process the PDF with OCR\n",
    "        print(f\"Processing OCR for {file_path}...\")\n",
    "        ocr_response = client.ocr.process(\n",
    "            model=\"mistral-ocr-latest\",\n",
    "            document={\n",
    "                \"type\": \"document_url\",\n",
    "                \"document_url\": signed_url.url,\n",
    "            }\n",
    "        )\n",
    "        \n",
    "        # Extract the text content from the OCR response\n",
    "        # The actual structure depends on Mistral's API response format\n",
    "        # This is a placeholder - adjust based on actual API response structure\n",
    "        extracted_text = ocr_response.pages\n",
    "        \n",
    "        print(ocr_response.pages)\n",
    "\n",
    "        return extracted_text\n",
    "    \n",
    "    except Exception as e:\n",
    "        print(f\"Error processing {file_path}: {str(e)}\")\n",
    "        return \"\"\n",
    "\n"
   ]
  },
  {
   "cell_type": "code",
   "execution_count": null,
   "metadata": {},
   "outputs": [
    {
     "name": "stdout",
     "output_type": "stream",
     "text": [
      "c:\\Users\\surya\\Downloads\\Rapi\\Vanessa\\server_latest\\AR-RAG-Project-Server-Docker\\documents_RAG\\iTNC530 機械操作手冊 MV154,MV154APC,MV204,UX300.pdf\n"
     ]
    }
   ],
   "source": [
    "document_path = os.path.join(BASE_DIR, \"documents_RAG\", \"iTNC530 機械操作手冊 MV154,MV154APC,MV204,UX300.pdf\")\n",
    "pdf_text = process_pdf_with_ocr(document_path)"
   ]
  },
  {
   "cell_type": "code",
   "execution_count": null,
   "metadata": {},
   "outputs": [],
   "source": [
    "# Assuming pdf_text is a list of OCRPageObject elements\n",
    "markdowns = [page.markdown for page in pdf_text]\n",
    "\n",
    "# If you want to join all markdowns together into one single string (optional):\n",
    "all_markdown = \"\\n\".join(markdowns)\n",
    "\n",
    "# Display or process the extracted markdowns\n",
    "print(all_markdown)\n",
    "\n",
    "extracted_markdown=all_markdown   "
   ]
  },
  {
   "cell_type": "code",
   "execution_count": null,
   "metadata": {},
   "outputs": [],
   "source": [
    "# Recursive function to split text into manageable chunks with overlap (kept from original code)\n",
    "def recursive_chunk_text(text, chunk_size=1000, overlap=150):\n",
    "    chunks = []\n",
    "    \n",
    "    # Base case: if the text is smaller than chunk_size, return it as is\n",
    "    if len(text) <= chunk_size:\n",
    "        chunks.append(text)\n",
    "        return chunks\n",
    "    \n",
    "    # Try splitting the text at the closest space to avoid cutting words\n",
    "    split_point = text.rfind(' ', 0, chunk_size)\n",
    "    \n",
    "    # If no space is found, just split at the chunk_size\n",
    "    if split_point == -1:\n",
    "        split_point = chunk_size\n",
    "    \n",
    "    # Split the text and add the first chunk\n",
    "    chunks.append(text[:split_point].strip())\n",
    "    \n",
    "    # Calculate the starting point for the next chunk (with overlap)\n",
    "    next_start = max(0, split_point - overlap)\n",
    "    \n",
    "    # Recursively process the remaining part, including the overlap\n",
    "    chunks.extend(recursive_chunk_text(text[next_start:].strip(), chunk_size, overlap))\n",
    "    \n",
    "    return chunks"
   ]
  },
  {
   "cell_type": "code",
   "execution_count": null,
   "metadata": {},
   "outputs": [],
   "source": [
    "# Extract text from PDF files using Mistral OCR\n",
    "text_lines = []\n",
    "for file_path in glob(os.path.join(BASE_DIR, \"documents_RAG\", \"*.pdf\"), recursive=True):\n",
    "    # Process the PDF file with OCR\n",
    "    pdf_text = process_pdf_with_ocr(file_path)\n",
    "    \n",
    "    # Apply recursive chunking to split the extracted text into smaller sections\n",
    "    if pdf_text:\n",
    "        text_lines.extend(recursive_chunk_text(extracted_markdown))\n",
    "        \n",
    "        # Add a delay between API calls to avoid rate limiting\n",
    "        time.sleep(1)\n",
    "\n",
    "# Write all the chunks to a text file for external viewing\n",
    "with open(\"chunks_output.txt\", \"w\") as file:\n",
    "    for i, chunk in enumerate(text_lines):\n",
    "        file.write(f\"Chunk {i+1}:\\n{chunk}\\n\\n\")"
   ]
  },
  {
   "cell_type": "code",
   "execution_count": null,
   "metadata": {},
   "outputs": [],
   "source": [
    "import ollama\n",
    "\n",
    "def emb_text(text):\n",
    "    response = ollama.embeddings(model=EMBEDDING_MODEL, prompt=text)\n",
    "    return response[\"embedding\"]\n"
   ]
  },
  {
   "cell_type": "code",
   "execution_count": null,
   "metadata": {},
   "outputs": [],
   "source": [
    "test_embedding = emb_text(\"This is a test\")\n",
    "embedding_dim = len(test_embedding)\n",
    "print(embedding_dim)\n",
    "print(test_embedding[:10])\n"
   ]
  },
  {
   "cell_type": "markdown",
   "metadata": {},
   "source": [
    "# Connect to Milvus"
   ]
  },
  {
   "cell_type": "code",
   "execution_count": null,
   "metadata": {},
   "outputs": [],
   "source": [
    "from pymilvus import Collection, FieldSchema, CollectionSchema, DataType, Index, utility, connections\n",
    "import numpy as np\n",
    "import fitz\n",
    "from glob import glob"
   ]
  },
  {
   "cell_type": "code",
   "execution_count": null,
   "metadata": {},
   "outputs": [
    {
     "name": "stdout",
     "output_type": "stream",
     "text": [
      "Terhubung ke Milvus!\n"
     ]
    }
   ],
   "source": [
    "# Connect to milvus\n",
    "connections.connect(alias=\"default\", uri=MILVUS_URL)\n",
    "print(\"Connected to Milvus!\")"
   ]
  },
  {
   "cell_type": "code",
   "execution_count": null,
   "metadata": {},
   "outputs": [],
   "source": [
    "# Drop existing collection if it exists\n",
    "if utility.has_collection(COLLECTION_NAME):\n",
    "    utility.drop_collection(COLLECTION_NAME)\n",
    "    print(f\"Existing collection {COLLECTION_NAME} dropped!\")"
   ]
  },
  {
   "cell_type": "code",
   "execution_count": null,
   "metadata": {},
   "outputs": [],
   "source": [
    "# Define schema\n",
    "fields = [\n",
    "    FieldSchema(name=\"id\", dtype=DataType.INT64, is_primary=True, auto_id=True),\n",
    "    FieldSchema(name=\"text\", dtype=DataType.VARCHAR, max_length=2048),\n",
    "    FieldSchema(name=\"vector\", dtype=DataType.FLOAT_VECTOR, dim=embedding_dim)\n",
    "]\n",
    "\n",
    "schema = CollectionSchema(fields, description=\"Koleksi embedding dokumen\")\n",
    "\n",
    "# Create new collection\n",
    "collection = Collection(name=COLLECTION_NAME, schema=schema, consistency_level=\"Strong\")\n",
    "print(f\"Koleksi '{COLLECTION_NAME}' berhasil dibuat!\")"
   ]
  },
  {
   "cell_type": "code",
   "execution_count": null,
   "metadata": {},
   "outputs": [],
   "source": [
    "# Create index on vector field\n",
    "index_params = {\n",
    "    \"metric_type\": MILVUS_METRIC_TYPE,\n",
    "    \"index_type\": \"IVF_FLAT\",\n",
    "    \"params\": {\"nlist\": 128}\n",
    "}\n",
    "\n",
    "collection.create_index(field_name=\"vector\", index_params=index_params)\n",
    "print(\"Index berhasil dibuat!\")"
   ]
  },
  {
   "cell_type": "code",
   "execution_count": null,
   "metadata": {},
   "outputs": [
    {
     "name": "stdout",
     "output_type": "stream",
     "text": [
      "Existing collection dropped!\n",
      "Koleksi berhasil dibuat!\n",
      "Index berhasil dibuat!\n",
      "Data berhasil dimasukkan dengan total 9 chunk.\n"
     ]
    }
   ],
   "source": [
    "# Insert data\n",
    "entities = [\n",
    "    {\n",
    "        \"text\": text,\n",
    "        \"vector\": vector\n",
    "    }\n",
    "    # for text, vector in zip(text_chunks, embedding_vectors)\n",
    "    for i, (text, vector) in enumerate(tqdm(zip(text_chunks, embedding_vectors), desc=\"Processing embeddings\"))\n",
    "]\n",
    "\n",
    "insert_result = collection.insert(entities)\n",
    "collection.flush()\n",
    "collection.load()\n",
    "print(f\"Data berhasil dimasukkan dengan total {len(text_chunks)} chunk.\")"
   ]
  },
  {
   "cell_type": "code",
   "execution_count": 17,
   "metadata": {},
   "outputs": [
    {
     "name": "stdout",
     "output_type": "stream",
     "text": [
      "Score: 179.9971466064453, Text: Introduction\n",
      "This manual is a guide for using the MITSUBISHI CNC C80 Series.\n",
      "This manual describes operations, production processes and maintenances for users who operate the MITSUBISHI CNC\n",
      "installed machine tool. Read this manual thoroughly before using CNC unit. Moreover study the \"Precautions for Safety\" on\n",
      "the next page before use to use the unit safely. Be sure to keep this manual always at hand.\n",
      "CAUTION\n",
      "For items described as \"Restrictions\" or \"Usable State\" in this manual, the instruction manual issued by the\n",
      "machine tool builder (MTB) takes precedence over this manual.\n",
      "Items not described in this manual must be interpreted as \"not possible\".\n",
      "This manual is written on the assumption that all the applicable functions are included. Some of them, however,\n",
      "may not be available for your NC system. Refer to the specifications issued by the machine tool builder before\n",
      "use.\n",
      "Refer to the Instruction Manual issued by each MTB for details on each machine tool.\n",
      "Some screens and functions\n",
      "Score: 179.12855529785156, Text: No.\n",
      "Purpose and Contents\n",
      "M800/M80/E80/C80 Series\n",
      "Specifications Manual (Function)\n",
      "IB-1501505\n",
      "Model selection\n",
      "Outline of various functions\n",
      "M800/M80/E80/C80 Series\n",
      "Specifications Manual (Hardware)\n",
      "IB-1501506\n",
      "Model selection\n",
      "Specifications of hardware unit\n",
      "M800W/M80W Series\n",
      "Connection and Setup Manual\n",
      "IB-1501268\n",
      "Detailed specifications of hardware unit\n",
      "Installation, connection, wiring, setup (startup/adjustment)\n",
      "M800S/M80/E80 Series\n",
      "Connection and Setup Manual\n",
      "IB-1501269\n",
      "Detailed specifications of hardware unit\n",
      "Installation, connection, wiring, setup (startup/adjustment)\n",
      "C80 Series\n",
      "Connection and Setup Manual\n",
      "IB-1501452\n",
      "Detailed specifications of hardware unit\n",
      "Installation, connection, wiring, setup (startup/adjustment)\n",
      "M800/M80/E80 Series\n",
      "PLC Development Manual\n",
      "IB-1501270\n",
      "Electrical design\n",
      "I/O relation (assignment, setting, connection), field network\n",
      "Development environment (PLC on-board, peripheral \n",
      "development environment), etc.\n",
      "M800/M80/E80 Series\n",
      "PLC Programming\n",
      "Score: 175.87583923339844, Text: Manual\n",
      "IB-1501241\n",
      "Instruction for multi-hybrid, power supply regeneration type\n",
      "DATA BOOK\n",
      "IB-1501252\n",
      "Specifications of servo drive unit, spindle drive unit, motor, etc.\n",
      "Manuals for MTBs (Others)\n",
      "■ For M800/M80/E80 Series\n",
      "■ For C80 Series\n",
      "Manual\n",
      "No.\n",
      "Purpose and Contents\n",
      "GOT2000 Series User’s Manual \n",
      "(Hardware)\n",
      "SH-081194\n",
      "Outline of hardware such as part names, external dimensions, \n",
      "installation, wiring, maintenance, etc. of GOTs\n",
      "GOT2000 Series User’s Manual \n",
      "(Utility)\n",
      "SH-081195\n",
      "Outline of utilities such as screen display setting, operation \n",
      "method, etc. of GOTs\n",
      "GOT2000 Series User’s Manual \n",
      "(Monitor)\n",
      "SH-081196\n",
      "Outline of each monitor function of GOTs\n",
      "GOT2000 Series Connection \n",
      "Manual (Mitsubishi Electric \n",
      "Products)\n",
      "SH-081197\n",
      "Outline of connection types and connection method between \n",
      "GOT and Mitsubishi Electric connection devices\n",
      "GT Designer3 (GOT2000) Screen \n",
      "Design Manual\n",
      "SH-081220\n",
      "Outline of screen design method using screen creation \n",
      "software GT Designer3\n",
      "Manual\n",
      "No.\n",
      "Purpose and\n",
      "Score: 174.29696655273438, Text: Manual\n",
      "IB-1501274\n",
      "Operation guide for NC\n",
      "Explanation for screen operation, etc.\n",
      "C80 Series\n",
      "Instruction Manual\n",
      "IB-1501453\n",
      "Operation guide for NC\n",
      "Explanation for screen operation, etc.\n",
      "M800/M80/E80/C80 Series\n",
      "Programming Manual\n",
      "(Lathe System) (1/2)\n",
      "IB-1501275\n",
      "G code programming for lathe system\n",
      "Basic functions, etc.\n",
      "M800/M80/E80/C80 Series\n",
      "Programming Manual\n",
      "(Lathe System) (2/2)\n",
      "IB-1501276\n",
      "G code programming for lathe system\n",
      "Functions for multi-part system, high-accuracy function, etc.\n",
      "M800/M80/E80/C80 Series\n",
      "Programming Manual\n",
      "(Machining Center System) (1/2)\n",
      "IB-1501277\n",
      "G code programming for machining center system\n",
      "Basic functions, etc.\n",
      "M800/M80/E80/C80 Series\n",
      "Programming Manual\n",
      "(Machining Center System) (2/2)\n",
      "IB-1501278\n",
      "G code programming for machining center system\n",
      "Functions for multi-part system, high-accuracy function, etc.\n",
      "M800/M80/E80/C80 Series\n",
      "Alarm/Parameter Manual\n",
      "IB-1501279\n",
      "Alarms\n",
      "Parameters\n",
      "Manuals for MTBs (NC)\n",
      "Manuals for MTBs (drive section)\n",
      "Manual\n",
      "IB\n",
      "Score: 173.18478393554688, Text: necessary knowledge to configure \n",
      "the system and maintenance-related descriptions for Q series \n",
      "CPU module, etc.\n",
      "GX Works3 Operating Manual\n",
      "SH-081215\n",
      "Outline of functions, programming, etc.\n"
     ]
    }
   ],
   "source": [
    "search_params = {\"metric_type\": \"IP\", \"params\": {\"nprobe\": 10}}\n",
    "\n",
    "query_text = \"This manual is a guide\"\n",
    "query_vector = ollama.embeddings(model=os.getenv(\"EMBEDDING_MODEL\"), prompt=query_text)[\"embedding\"]\n",
    "\n",
    "results = collection.search(\n",
    "    data=[query_vector],  # Query vector(s)\n",
    "    anns_field=\"vector\",  # The field to search\n",
    "    param=search_params,\n",
    "    limit=5,  # Get top 5 results\n",
    "    output_fields=[\"text\"]  # Retrieve associated text\n",
    ")\n",
    "\n",
    "# Print the results\n",
    "for hits in results:\n",
    "    for hit in hits:\n",
    "        print(f\"Score: {hit.distance}, Text: {hit.entity.get('text')}\")"
   ]
  },
  {
   "cell_type": "code",
   "execution_count": null,
   "metadata": {},
   "outputs": [],
   "source": []
  }
 ],
 "metadata": {
  "kernelspec": {
   "display_name": "base",
   "language": "python",
   "name": "python3"
  },
  "language_info": {
   "codemirror_mode": {
    "name": "ipython",
    "version": 3
   },
   "file_extension": ".py",
   "mimetype": "text/x-python",
   "name": "python",
   "nbconvert_exporter": "python",
   "pygments_lexer": "ipython3",
   "version": "3.9.21"
  }
 },
 "nbformat": 4,
 "nbformat_minor": 2
}
